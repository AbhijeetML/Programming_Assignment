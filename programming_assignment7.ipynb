{
 "cells": [
  {
   "cell_type": "markdown",
   "metadata": {},
   "source": [
    "###### Write a Python Program to find sum of array?`"
   ]
  },
  {
   "cell_type": "code",
   "execution_count": 17,
   "metadata": {},
   "outputs": [
    {
     "name": "stdout",
     "output_type": "stream",
     "text": [
      "enter size of array 3\n",
      "enter number 1 1\n",
      "enter number 2 2\n",
      "enter number 3 3\n"
     ]
    },
    {
     "data": {
      "text/plain": [
       "6"
      ]
     },
     "execution_count": 17,
     "metadata": {},
     "output_type": "execute_result"
    }
   ],
   "source": [
    "def Sumarr():\n",
    "    n=int(input('enter size of array '))\n",
    "    arr=[]\n",
    "    for i in range(1,n+1):\n",
    "        j=int(input(f'enter number {i} '))\n",
    "        arr.append(j)\n",
    "    return sum(arr)\n",
    "Sumarr()"
   ]
  },
  {
   "cell_type": "markdown",
   "metadata": {},
   "source": [
    "###### Write a Python Program to find largest element in an array?"
   ]
  },
  {
   "cell_type": "code",
   "execution_count": 30,
   "metadata": {},
   "outputs": [
    {
     "name": "stdout",
     "output_type": "stream",
     "text": [
      "enter the size of array 3\n",
      "enter number 1 4\n",
      "enter number 2 2\n",
      "enter number 3 5\n"
     ]
    },
    {
     "data": {
      "text/plain": [
       "5"
      ]
     },
     "execution_count": 30,
     "metadata": {},
     "output_type": "execute_result"
    }
   ],
   "source": [
    "from functools import reduce\n",
    "def largest():\n",
    "    n=int(input('enter the size of array '))\n",
    "    arr=[]\n",
    "    for i in range(1,n+1):\n",
    "        j=int(input(f'enter number {i} '))\n",
    "        arr.append(j)\n",
    "    return reduce(lambda x,y:x if x>y else y,arr)\n",
    "largest()"
   ]
  },
  {
   "cell_type": "markdown",
   "metadata": {},
   "source": [
    "###### Write a Python Program for array rotation?"
   ]
  },
  {
   "cell_type": "code",
   "execution_count": 32,
   "metadata": {},
   "outputs": [
    {
     "name": "stdout",
     "output_type": "stream",
     "text": [
      "enter the size of array 3\n",
      "enter number 1 1\n",
      "enter number 2 2\n",
      "enter number 3 3\n"
     ]
    },
    {
     "data": {
      "text/plain": [
       "[3, 2, 1]"
      ]
     },
     "execution_count": 32,
     "metadata": {},
     "output_type": "execute_result"
    }
   ],
   "source": [
    "def rotate():\n",
    "    n=int(input('enter the size of array '))\n",
    "    arr=[]\n",
    "    for i in range(1,n+1):\n",
    "        j=int(input(f'enter number {i} '))\n",
    "        arr.append(j)\n",
    "    return arr[::-1]\n",
    "rotate()"
   ]
  },
  {
   "cell_type": "markdown",
   "metadata": {},
   "source": [
    "###### Write a Python Program to Split the array and add the first part to the end?"
   ]
  },
  {
   "cell_type": "code",
   "execution_count": 94,
   "metadata": {},
   "outputs": [
    {
     "name": "stdout",
     "output_type": "stream",
     "text": [
      "enter the size of array 4\n",
      "enter number 1 1\n",
      "enter number 2 2\n",
      "enter number 3 3\n",
      "enter number 4 4\n",
      "array entered is [1, 2, 3, 4]\n",
      "enter the split position2\n"
     ]
    },
    {
     "data": {
      "text/plain": [
       "'array after split [3, 4, 1, 2]'"
      ]
     },
     "execution_count": 94,
     "metadata": {},
     "output_type": "execute_result"
    }
   ],
   "source": [
    "def split():\n",
    "    n=int(input('enter the size of array '))\n",
    "    arr=[]\n",
    "    for i in range(1,n+1):\n",
    "        j=int(input(f'enter number {i} '))\n",
    "        arr.append(j)\n",
    "    print(f'array entered is {arr}')\n",
    "    sp=int(input('enter the split position'))\n",
    "    \n",
    "    x=arr[sp:]\n",
    "    y=arr[:sp]\n",
    "    x.extend(y)\n",
    "    return f'array after split {x}'\n",
    "split()"
   ]
  },
  {
   "cell_type": "markdown",
   "metadata": {},
   "source": [
    "###### Write a Python Program to check if given array is Monotonic?"
   ]
  },
  {
   "cell_type": "code",
   "execution_count": 101,
   "metadata": {},
   "outputs": [
    {
     "data": {
      "text/plain": [
       "True"
      ]
     },
     "execution_count": 101,
     "metadata": {},
     "output_type": "execute_result"
    }
   ],
   "source": [
    "def mono(n):\n",
    "    return (all(n[i]<n[i+1] for i in range(len(n)-1)) or all(n[i]>n[i+1] for i in range(len(n)-1)))\n",
    "mono([5,4,3,2,1])"
   ]
  }
 ],
 "metadata": {
  "kernelspec": {
   "display_name": "Python 3",
   "language": "python",
   "name": "python3"
  },
  "language_info": {
   "codemirror_mode": {
    "name": "ipython",
    "version": 3
   },
   "file_extension": ".py",
   "mimetype": "text/x-python",
   "name": "python",
   "nbconvert_exporter": "python",
   "pygments_lexer": "ipython3",
   "version": "3.8.3"
  }
 },
 "nbformat": 4,
 "nbformat_minor": 4
}
