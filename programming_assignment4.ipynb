{
 "cells": [
  {
   "cell_type": "markdown",
   "metadata": {},
   "source": [
    "#### Assignment 4"
   ]
  },
  {
   "cell_type": "markdown",
   "metadata": {},
   "source": [
    "###### Write a Python Program to Find the Factorial of a Number?"
   ]
  },
  {
   "cell_type": "code",
   "execution_count": 34,
   "metadata": {},
   "outputs": [
    {
     "data": {
      "text/plain": [
       "24"
      ]
     },
     "execution_count": 34,
     "metadata": {},
     "output_type": "execute_result"
    }
   ],
   "source": [
    "def fac(n):\n",
    "    x=1\n",
    "    for i in range(1,n+1):\n",
    "        x=x*i\n",
    "    return x\n",
    "fac(4)"
   ]
  },
  {
   "cell_type": "markdown",
   "metadata": {},
   "source": [
    "###### Write a Python Program to Display the multiplication Table?"
   ]
  },
  {
   "cell_type": "code",
   "execution_count": 42,
   "metadata": {},
   "outputs": [
    {
     "name": "stdout",
     "output_type": "stream",
     "text": [
      "3*1=3\n",
      "3*2=6\n",
      "3*3=9\n",
      "3*4=12\n",
      "3*5=15\n",
      "3*6=18\n",
      "3*7=21\n",
      "3*8=24\n",
      "3*9=27\n",
      "3*10=30\n"
     ]
    }
   ],
   "source": [
    "def mul(n):\n",
    "    for i in range(1,11):\n",
    "        print(f'{n}*{i}={n*i}')\n",
    "mul(3)"
   ]
  },
  {
   "cell_type": "markdown",
   "metadata": {},
   "source": [
    "###### Write a Python Program to Print the Fibonacci sequence?"
   ]
  },
  {
   "cell_type": "code",
   "execution_count": 69,
   "metadata": {},
   "outputs": [],
   "source": [
    "def fibo(n):\n",
    "    a = 0\n",
    "    b = 1\n",
    "    sum = 0\n",
    "    c= 1\n",
    "    while(c <= n):\n",
    "        print(sum, end = \" \")\n",
    "        c += 1\n",
    "        a = b\n",
    "        b = sum\n",
    "        sum = a + b"
   ]
  },
  {
   "cell_type": "code",
   "execution_count": 70,
   "metadata": {},
   "outputs": [
    {
     "name": "stdout",
     "output_type": "stream",
     "text": [
      "0 1 1 2 3 5 8 "
     ]
    }
   ],
   "source": [
    "fibo(7)"
   ]
  },
  {
   "cell_type": "markdown",
   "metadata": {},
   "source": [
    "###### Write a Python Program to Check Armstrong Number?"
   ]
  },
  {
   "cell_type": "code",
   "execution_count": 84,
   "metadata": {},
   "outputs": [
    {
     "name": "stdout",
     "output_type": "stream",
     "text": [
      "armstrong number\n"
     ]
    }
   ],
   "source": [
    "from functools import reduce\n",
    "import operator as op\n",
    "def arm(n):\n",
    "    x=reduce(op.add,map(lambda x:x**3,[int(i) for i in str(n)]))\n",
    "    if x==n:\n",
    "        print('armstrong number')\n",
    "    else:\n",
    "        print('not a armstrong number')\n",
    "arm(371)    "
   ]
  },
  {
   "cell_type": "markdown",
   "metadata": {},
   "source": [
    "###### Write a Python Program to Find Armstrong Number in an Interval?"
   ]
  },
  {
   "cell_type": "code",
   "execution_count": 92,
   "metadata": {},
   "outputs": [
    {
     "name": "stdout",
     "output_type": "stream",
     "text": [
      "153\n",
      "370\n",
      "371\n"
     ]
    }
   ],
   "source": [
    "from functools import reduce\n",
    "import operator as op\n",
    "def arm(n,m):\n",
    "    for j in range(n,m+1):\n",
    "        x=reduce(op.add,map(lambda x:x**len(str(j)),[int(i) for i in str(j)]))\n",
    "        if x==j:\n",
    "            print(x)\n",
    "    \n",
    "arm(100,400)    "
   ]
  },
  {
   "cell_type": "code",
   "execution_count": 103,
   "metadata": {},
   "outputs": [
    {
     "data": {
      "text/plain": [
       "136"
      ]
     },
     "execution_count": 103,
     "metadata": {},
     "output_type": "execute_result"
    }
   ],
   "source": [
    "def sumn(n):\n",
    "    if n<1:\n",
    "        print('enter positive number')\n",
    "    else:\n",
    "        x=reduce(op.add,[i for i in range(1,n+1)])\n",
    "        return x\n",
    "sumn(16)"
   ]
  }
 ],
 "metadata": {
  "kernelspec": {
   "display_name": "Python 3",
   "language": "python",
   "name": "python3"
  },
  "language_info": {
   "codemirror_mode": {
    "name": "ipython",
    "version": 3
   },
   "file_extension": ".py",
   "mimetype": "text/x-python",
   "name": "python",
   "nbconvert_exporter": "python",
   "pygments_lexer": "ipython3",
   "version": "3.8.3"
  }
 },
 "nbformat": 4,
 "nbformat_minor": 4
}
